{
  "nbformat": 4,
  "nbformat_minor": 0,
  "metadata": {
    "colab": {
      "provenance": [],
      "authorship_tag": "ABX9TyN9yzDnpMdCqsEPNHxBxyeF",
      "include_colab_link": true
    },
    "kernelspec": {
      "name": "python3",
      "display_name": "Python 3"
    },
    "language_info": {
      "name": "python"
    }
  },
  "cells": [
    {
      "cell_type": "markdown",
      "metadata": {
        "id": "view-in-github",
        "colab_type": "text"
      },
      "source": [
        "<a href=\"https://colab.research.google.com/github/idelahoussay2022/Stat-Class/blob/main/Delahoussaye_Lab_5_practice.ipynb\" target=\"_parent\"><img src=\"https://colab.research.google.com/assets/colab-badge.svg\" alt=\"Open In Colab\"/></a>"
      ]
    },
    {
      "cell_type": "code",
      "source": [
        "import pandas as pd\n",
        "import numpy as np\n",
        "import matplotlib.pyplot as plt\n",
        "def get_database(url):\n",
        "    url_head = \"https://docs.google.com/spreadsheets/d/\"\n",
        "    url_foot = \"/gviz/tq?tqx=out:csv&sheet=\"\n",
        "    url_body = url.split('/')[5]\n",
        "    sheet_name = \"1\"\n",
        "    url_csv = url_head + url_body + url_foot + sheet_name\n",
        "    df = pd.read_csv(url_csv, sep=',', skiprows=0)\n",
        "    return df\n",
        "    "
      ],
      "metadata": {
        "id": "FRhdlLX9qxNf"
      },
      "execution_count": 30,
      "outputs": []
    },
    {
      "cell_type": "code",
      "execution_count": 31,
      "metadata": {
        "id": "MWMJDdbvo0u7"
      },
      "outputs": [],
      "source": [
        "url= 'https://docs.google.com/spreadsheets/d/1XJhAqJmvsQZ_7MiH7OMNV3Sqljy2clhZnOd6ry5JvRI/edit?usp=sharing'"
      ]
    },
    {
      "cell_type": "code",
      "source": [
        "data=get_database(url)"
      ],
      "metadata": {
        "id": "mmtEUyWpqAvN"
      },
      "execution_count": 32,
      "outputs": []
    },
    {
      "cell_type": "code",
      "source": [
        "data"
      ],
      "metadata": {
        "colab": {
          "base_uri": "https://localhost:8080/",
          "height": 607
        },
        "id": "M8ByDKzMqeq0",
        "outputId": "f41c34ed-7669-4565-dc77-5b8c21c0f598"
      },
      "execution_count": 33,
      "outputs": [
        {
          "output_type": "execute_result",
          "data": {
            "text/plain": [
              "              Timestamp Favorite genre of music Favorite rapper  \\\n",
              "0    8/28/2022 23:44:49                     NaN             NaN   \n",
              "1    8/28/2022 23:47:16                     NaN             NaN   \n",
              "2   10/10/2022 12:04:51                     NaN             NaN   \n",
              "3   10/10/2022 12:04:56                     NaN             NaN   \n",
              "4   10/10/2022 12:04:56                     NaN             NaN   \n",
              "..                  ...                     ...             ...   \n",
              "87   12/12/2022 1:11:42                    Trap        Lil Baby   \n",
              "88   12/12/2022 1:11:53                     Rap           Lizzo   \n",
              "89   12/12/2022 3:45:53                     Rap           Kanye   \n",
              "90  12/12/2022 13:14:03                    Jazz           Lizzo   \n",
              "91  12/12/2022 21:18:24                     Rap        Lil Baby   \n",
              "\n",
              "   Favorite award show             Fav song Unnamed: 5  Score Best 6 Man  \\\n",
              "0                  NaN                  NaN        NaN    NaN        NaN   \n",
              "1                  NaN                  NaN        NaN    NaN        NaN   \n",
              "2                  NaN                  NaN        NaN    NaN        NaN   \n",
              "3                  NaN                  NaN        NaN    NaN        NaN   \n",
              "4                  NaN                  NaN        NaN    NaN        NaN   \n",
              "..                 ...                  ...        ...    ...        ...   \n",
              "87            Option 3     Vaccine by NoCap        NaN    NaN        NaN   \n",
              "88          BET Awards  Umbrella by Rihanna        NaN    NaN        NaN   \n",
              "89               AMA's  Umbrella by Rihanna        NaN    NaN        NaN   \n",
              "90            Option 3  Umbrella by Rihanna   Option 1    NaN        NaN   \n",
              "91               AMA's  Umbrella by Rihanna        NaN    NaN        NaN   \n",
              "\n",
              "   Favorite Pet  Unnamed: 9  \n",
              "0          Blue         NaN  \n",
              "1           Red         NaN  \n",
              "2           Red         NaN  \n",
              "3         Green         NaN  \n",
              "4         Green         NaN  \n",
              "..          ...         ...  \n",
              "87          NaN         NaN  \n",
              "88          NaN         NaN  \n",
              "89          NaN         NaN  \n",
              "90          NaN         NaN  \n",
              "91          NaN         NaN  \n",
              "\n",
              "[92 rows x 10 columns]"
            ],
            "text/html": [
              "\n",
              "  <div id=\"df-d016c47b-f901-4f45-bc52-66238910c1d2\">\n",
              "    <div class=\"colab-df-container\">\n",
              "      <div>\n",
              "<style scoped>\n",
              "    .dataframe tbody tr th:only-of-type {\n",
              "        vertical-align: middle;\n",
              "    }\n",
              "\n",
              "    .dataframe tbody tr th {\n",
              "        vertical-align: top;\n",
              "    }\n",
              "\n",
              "    .dataframe thead th {\n",
              "        text-align: right;\n",
              "    }\n",
              "</style>\n",
              "<table border=\"1\" class=\"dataframe\">\n",
              "  <thead>\n",
              "    <tr style=\"text-align: right;\">\n",
              "      <th></th>\n",
              "      <th>Timestamp</th>\n",
              "      <th>Favorite genre of music</th>\n",
              "      <th>Favorite rapper</th>\n",
              "      <th>Favorite award show</th>\n",
              "      <th>Fav song</th>\n",
              "      <th>Unnamed: 5</th>\n",
              "      <th>Score</th>\n",
              "      <th>Best 6 Man</th>\n",
              "      <th>Favorite Pet</th>\n",
              "      <th>Unnamed: 9</th>\n",
              "    </tr>\n",
              "  </thead>\n",
              "  <tbody>\n",
              "    <tr>\n",
              "      <th>0</th>\n",
              "      <td>8/28/2022 23:44:49</td>\n",
              "      <td>NaN</td>\n",
              "      <td>NaN</td>\n",
              "      <td>NaN</td>\n",
              "      <td>NaN</td>\n",
              "      <td>NaN</td>\n",
              "      <td>NaN</td>\n",
              "      <td>NaN</td>\n",
              "      <td>Blue</td>\n",
              "      <td>NaN</td>\n",
              "    </tr>\n",
              "    <tr>\n",
              "      <th>1</th>\n",
              "      <td>8/28/2022 23:47:16</td>\n",
              "      <td>NaN</td>\n",
              "      <td>NaN</td>\n",
              "      <td>NaN</td>\n",
              "      <td>NaN</td>\n",
              "      <td>NaN</td>\n",
              "      <td>NaN</td>\n",
              "      <td>NaN</td>\n",
              "      <td>Red</td>\n",
              "      <td>NaN</td>\n",
              "    </tr>\n",
              "    <tr>\n",
              "      <th>2</th>\n",
              "      <td>10/10/2022 12:04:51</td>\n",
              "      <td>NaN</td>\n",
              "      <td>NaN</td>\n",
              "      <td>NaN</td>\n",
              "      <td>NaN</td>\n",
              "      <td>NaN</td>\n",
              "      <td>NaN</td>\n",
              "      <td>NaN</td>\n",
              "      <td>Red</td>\n",
              "      <td>NaN</td>\n",
              "    </tr>\n",
              "    <tr>\n",
              "      <th>3</th>\n",
              "      <td>10/10/2022 12:04:56</td>\n",
              "      <td>NaN</td>\n",
              "      <td>NaN</td>\n",
              "      <td>NaN</td>\n",
              "      <td>NaN</td>\n",
              "      <td>NaN</td>\n",
              "      <td>NaN</td>\n",
              "      <td>NaN</td>\n",
              "      <td>Green</td>\n",
              "      <td>NaN</td>\n",
              "    </tr>\n",
              "    <tr>\n",
              "      <th>4</th>\n",
              "      <td>10/10/2022 12:04:56</td>\n",
              "      <td>NaN</td>\n",
              "      <td>NaN</td>\n",
              "      <td>NaN</td>\n",
              "      <td>NaN</td>\n",
              "      <td>NaN</td>\n",
              "      <td>NaN</td>\n",
              "      <td>NaN</td>\n",
              "      <td>Green</td>\n",
              "      <td>NaN</td>\n",
              "    </tr>\n",
              "    <tr>\n",
              "      <th>...</th>\n",
              "      <td>...</td>\n",
              "      <td>...</td>\n",
              "      <td>...</td>\n",
              "      <td>...</td>\n",
              "      <td>...</td>\n",
              "      <td>...</td>\n",
              "      <td>...</td>\n",
              "      <td>...</td>\n",
              "      <td>...</td>\n",
              "      <td>...</td>\n",
              "    </tr>\n",
              "    <tr>\n",
              "      <th>87</th>\n",
              "      <td>12/12/2022 1:11:42</td>\n",
              "      <td>Trap</td>\n",
              "      <td>Lil Baby</td>\n",
              "      <td>Option 3</td>\n",
              "      <td>Vaccine by NoCap</td>\n",
              "      <td>NaN</td>\n",
              "      <td>NaN</td>\n",
              "      <td>NaN</td>\n",
              "      <td>NaN</td>\n",
              "      <td>NaN</td>\n",
              "    </tr>\n",
              "    <tr>\n",
              "      <th>88</th>\n",
              "      <td>12/12/2022 1:11:53</td>\n",
              "      <td>Rap</td>\n",
              "      <td>Lizzo</td>\n",
              "      <td>BET Awards</td>\n",
              "      <td>Umbrella by Rihanna</td>\n",
              "      <td>NaN</td>\n",
              "      <td>NaN</td>\n",
              "      <td>NaN</td>\n",
              "      <td>NaN</td>\n",
              "      <td>NaN</td>\n",
              "    </tr>\n",
              "    <tr>\n",
              "      <th>89</th>\n",
              "      <td>12/12/2022 3:45:53</td>\n",
              "      <td>Rap</td>\n",
              "      <td>Kanye</td>\n",
              "      <td>AMA's</td>\n",
              "      <td>Umbrella by Rihanna</td>\n",
              "      <td>NaN</td>\n",
              "      <td>NaN</td>\n",
              "      <td>NaN</td>\n",
              "      <td>NaN</td>\n",
              "      <td>NaN</td>\n",
              "    </tr>\n",
              "    <tr>\n",
              "      <th>90</th>\n",
              "      <td>12/12/2022 13:14:03</td>\n",
              "      <td>Jazz</td>\n",
              "      <td>Lizzo</td>\n",
              "      <td>Option 3</td>\n",
              "      <td>Umbrella by Rihanna</td>\n",
              "      <td>Option 1</td>\n",
              "      <td>NaN</td>\n",
              "      <td>NaN</td>\n",
              "      <td>NaN</td>\n",
              "      <td>NaN</td>\n",
              "    </tr>\n",
              "    <tr>\n",
              "      <th>91</th>\n",
              "      <td>12/12/2022 21:18:24</td>\n",
              "      <td>Rap</td>\n",
              "      <td>Lil Baby</td>\n",
              "      <td>AMA's</td>\n",
              "      <td>Umbrella by Rihanna</td>\n",
              "      <td>NaN</td>\n",
              "      <td>NaN</td>\n",
              "      <td>NaN</td>\n",
              "      <td>NaN</td>\n",
              "      <td>NaN</td>\n",
              "    </tr>\n",
              "  </tbody>\n",
              "</table>\n",
              "<p>92 rows × 10 columns</p>\n",
              "</div>\n",
              "      <button class=\"colab-df-convert\" onclick=\"convertToInteractive('df-d016c47b-f901-4f45-bc52-66238910c1d2')\"\n",
              "              title=\"Convert this dataframe to an interactive table.\"\n",
              "              style=\"display:none;\">\n",
              "        \n",
              "  <svg xmlns=\"http://www.w3.org/2000/svg\" height=\"24px\"viewBox=\"0 0 24 24\"\n",
              "       width=\"24px\">\n",
              "    <path d=\"M0 0h24v24H0V0z\" fill=\"none\"/>\n",
              "    <path d=\"M18.56 5.44l.94 2.06.94-2.06 2.06-.94-2.06-.94-.94-2.06-.94 2.06-2.06.94zm-11 1L8.5 8.5l.94-2.06 2.06-.94-2.06-.94L8.5 2.5l-.94 2.06-2.06.94zm10 10l.94 2.06.94-2.06 2.06-.94-2.06-.94-.94-2.06-.94 2.06-2.06.94z\"/><path d=\"M17.41 7.96l-1.37-1.37c-.4-.4-.92-.59-1.43-.59-.52 0-1.04.2-1.43.59L10.3 9.45l-7.72 7.72c-.78.78-.78 2.05 0 2.83L4 21.41c.39.39.9.59 1.41.59.51 0 1.02-.2 1.41-.59l7.78-7.78 2.81-2.81c.8-.78.8-2.07 0-2.86zM5.41 20L4 18.59l7.72-7.72 1.47 1.35L5.41 20z\"/>\n",
              "  </svg>\n",
              "      </button>\n",
              "      \n",
              "  <style>\n",
              "    .colab-df-container {\n",
              "      display:flex;\n",
              "      flex-wrap:wrap;\n",
              "      gap: 12px;\n",
              "    }\n",
              "\n",
              "    .colab-df-convert {\n",
              "      background-color: #E8F0FE;\n",
              "      border: none;\n",
              "      border-radius: 50%;\n",
              "      cursor: pointer;\n",
              "      display: none;\n",
              "      fill: #1967D2;\n",
              "      height: 32px;\n",
              "      padding: 0 0 0 0;\n",
              "      width: 32px;\n",
              "    }\n",
              "\n",
              "    .colab-df-convert:hover {\n",
              "      background-color: #E2EBFA;\n",
              "      box-shadow: 0px 1px 2px rgba(60, 64, 67, 0.3), 0px 1px 3px 1px rgba(60, 64, 67, 0.15);\n",
              "      fill: #174EA6;\n",
              "    }\n",
              "\n",
              "    [theme=dark] .colab-df-convert {\n",
              "      background-color: #3B4455;\n",
              "      fill: #D2E3FC;\n",
              "    }\n",
              "\n",
              "    [theme=dark] .colab-df-convert:hover {\n",
              "      background-color: #434B5C;\n",
              "      box-shadow: 0px 1px 3px 1px rgba(0, 0, 0, 0.15);\n",
              "      filter: drop-shadow(0px 1px 2px rgba(0, 0, 0, 0.3));\n",
              "      fill: #FFFFFF;\n",
              "    }\n",
              "  </style>\n",
              "\n",
              "      <script>\n",
              "        const buttonEl =\n",
              "          document.querySelector('#df-d016c47b-f901-4f45-bc52-66238910c1d2 button.colab-df-convert');\n",
              "        buttonEl.style.display =\n",
              "          google.colab.kernel.accessAllowed ? 'block' : 'none';\n",
              "\n",
              "        async function convertToInteractive(key) {\n",
              "          const element = document.querySelector('#df-d016c47b-f901-4f45-bc52-66238910c1d2');\n",
              "          const dataTable =\n",
              "            await google.colab.kernel.invokeFunction('convertToInteractive',\n",
              "                                                     [key], {});\n",
              "          if (!dataTable) return;\n",
              "\n",
              "          const docLinkHtml = 'Like what you see? Visit the ' +\n",
              "            '<a target=\"_blank\" href=https://colab.research.google.com/notebooks/data_table.ipynb>data table notebook</a>'\n",
              "            + ' to learn more about interactive tables.';\n",
              "          element.innerHTML = '';\n",
              "          dataTable['output_type'] = 'display_data';\n",
              "          await google.colab.output.renderOutput(dataTable, element);\n",
              "          const docLink = document.createElement('div');\n",
              "          docLink.innerHTML = docLinkHtml;\n",
              "          element.appendChild(docLink);\n",
              "        }\n",
              "      </script>\n",
              "    </div>\n",
              "  </div>\n",
              "  "
            ]
          },
          "metadata": {},
          "execution_count": 33
        }
      ]
    },
    {
      "cell_type": "code",
      "source": [
        "url = 'https://docs.google.com/spreadsheets/d/1yeypDMXaewxcEQNLePkp-mQoUalhMHiO9_qFMPo9y0g/edit?usp=sharing'\n"
      ],
      "metadata": {
        "id": "C0tJR8cUrhfn"
      },
      "execution_count": 34,
      "outputs": []
    },
    {
      "cell_type": "code",
      "source": [
        "data = get_database(url)"
      ],
      "metadata": {
        "id": "Mtlx47_-rmYc"
      },
      "execution_count": 35,
      "outputs": []
    },
    {
      "cell_type": "code",
      "source": [
        "data\n"
      ],
      "metadata": {
        "colab": {
          "base_uri": "https://localhost:8080/",
          "height": 1000
        },
        "id": "edElA3Dyrmwn",
        "outputId": "4da0a135-2487-4e80-f608-c8d68ac6f4a4"
      },
      "execution_count": 36,
      "outputs": [
        {
          "output_type": "execute_result",
          "data": {
            "text/plain": [
              "             Timestamp  What is your major? \n",
              "0    10/9/2022 22:14:01     Computer Science\n",
              "1    10/9/2022 22:14:06              English\n",
              "2    10/9/2022 22:14:10           Accounting\n",
              "3   10/10/2022 12:09:54     Exercise Science\n",
              "4   10/10/2022 12:12:23       Health Science\n",
              "5   10/10/2022 12:12:24              Finance\n",
              "6   10/10/2022 12:12:26     Criminal Justice\n",
              "7   10/10/2022 12:12:26             Business\n",
              "8   10/10/2022 12:12:28           Accounting\n",
              "9   10/10/2022 12:12:28       Health Science\n",
              "10  10/10/2022 12:12:29              Geology\n",
              "11  10/10/2022 12:12:29             Business\n",
              "12  10/10/2022 12:12:31           Don't know\n",
              "13  10/10/2022 12:12:31     Criminal Justice\n",
              "14  10/10/2022 12:12:33           Accounting\n",
              "15  10/10/2022 12:12:34     Criminal Justice\n",
              "16  10/10/2022 12:12:34             Business\n",
              "17  10/10/2022 12:12:34              Finance\n",
              "18  10/10/2022 12:12:34     Exercise Science\n",
              "19  10/10/2022 12:12:35       Health Science\n",
              "20  10/10/2022 12:12:37           Accounting\n",
              "21  10/10/2022 12:12:38     Computer Science\n",
              "22  10/10/2022 12:12:39           Accounting\n",
              "23  10/10/2022 12:12:39            Marketing\n",
              "24  10/10/2022 12:12:41             Business\n",
              "25  10/10/2022 12:12:43       Health Science\n",
              "26  10/10/2022 12:12:44           Accounting\n",
              "27  10/10/2022 12:12:47     Computer Science\n",
              "28  10/10/2022 12:12:50             Business\n",
              "29  10/10/2022 12:12:51              Finance\n",
              "30  10/10/2022 12:12:55             Business\n",
              "31  10/10/2022 12:13:16     Criminal Justice\n",
              "32  10/10/2022 12:13:18           Accounting\n",
              "33  10/10/2022 12:13:20            Marketing\n",
              "34  10/10/2022 12:13:20             Business\n",
              "35  10/10/2022 12:13:29                 Math\n",
              "36  10/10/2022 12:13:35              English\n",
              "37  10/10/2022 12:13:44             Business\n",
              "38  10/10/2022 12:13:45       Health Science\n",
              "39  10/10/2022 12:13:46             Business\n",
              "40  10/10/2022 12:13:50              Finance\n",
              "41  10/10/2022 12:14:01       Health Science\n",
              "42  10/10/2022 12:14:04            Marketing"
            ],
            "text/html": [
              "\n",
              "  <div id=\"df-66713ed3-504c-43d8-a0e1-fe359f747831\">\n",
              "    <div class=\"colab-df-container\">\n",
              "      <div>\n",
              "<style scoped>\n",
              "    .dataframe tbody tr th:only-of-type {\n",
              "        vertical-align: middle;\n",
              "    }\n",
              "\n",
              "    .dataframe tbody tr th {\n",
              "        vertical-align: top;\n",
              "    }\n",
              "\n",
              "    .dataframe thead th {\n",
              "        text-align: right;\n",
              "    }\n",
              "</style>\n",
              "<table border=\"1\" class=\"dataframe\">\n",
              "  <thead>\n",
              "    <tr style=\"text-align: right;\">\n",
              "      <th></th>\n",
              "      <th>Timestamp</th>\n",
              "      <th>What is your major?</th>\n",
              "    </tr>\n",
              "  </thead>\n",
              "  <tbody>\n",
              "    <tr>\n",
              "      <th>0</th>\n",
              "      <td>10/9/2022 22:14:01</td>\n",
              "      <td>Computer Science</td>\n",
              "    </tr>\n",
              "    <tr>\n",
              "      <th>1</th>\n",
              "      <td>10/9/2022 22:14:06</td>\n",
              "      <td>English</td>\n",
              "    </tr>\n",
              "    <tr>\n",
              "      <th>2</th>\n",
              "      <td>10/9/2022 22:14:10</td>\n",
              "      <td>Accounting</td>\n",
              "    </tr>\n",
              "    <tr>\n",
              "      <th>3</th>\n",
              "      <td>10/10/2022 12:09:54</td>\n",
              "      <td>Exercise Science</td>\n",
              "    </tr>\n",
              "    <tr>\n",
              "      <th>4</th>\n",
              "      <td>10/10/2022 12:12:23</td>\n",
              "      <td>Health Science</td>\n",
              "    </tr>\n",
              "    <tr>\n",
              "      <th>5</th>\n",
              "      <td>10/10/2022 12:12:24</td>\n",
              "      <td>Finance</td>\n",
              "    </tr>\n",
              "    <tr>\n",
              "      <th>6</th>\n",
              "      <td>10/10/2022 12:12:26</td>\n",
              "      <td>Criminal Justice</td>\n",
              "    </tr>\n",
              "    <tr>\n",
              "      <th>7</th>\n",
              "      <td>10/10/2022 12:12:26</td>\n",
              "      <td>Business</td>\n",
              "    </tr>\n",
              "    <tr>\n",
              "      <th>8</th>\n",
              "      <td>10/10/2022 12:12:28</td>\n",
              "      <td>Accounting</td>\n",
              "    </tr>\n",
              "    <tr>\n",
              "      <th>9</th>\n",
              "      <td>10/10/2022 12:12:28</td>\n",
              "      <td>Health Science</td>\n",
              "    </tr>\n",
              "    <tr>\n",
              "      <th>10</th>\n",
              "      <td>10/10/2022 12:12:29</td>\n",
              "      <td>Geology</td>\n",
              "    </tr>\n",
              "    <tr>\n",
              "      <th>11</th>\n",
              "      <td>10/10/2022 12:12:29</td>\n",
              "      <td>Business</td>\n",
              "    </tr>\n",
              "    <tr>\n",
              "      <th>12</th>\n",
              "      <td>10/10/2022 12:12:31</td>\n",
              "      <td>Don't know</td>\n",
              "    </tr>\n",
              "    <tr>\n",
              "      <th>13</th>\n",
              "      <td>10/10/2022 12:12:31</td>\n",
              "      <td>Criminal Justice</td>\n",
              "    </tr>\n",
              "    <tr>\n",
              "      <th>14</th>\n",
              "      <td>10/10/2022 12:12:33</td>\n",
              "      <td>Accounting</td>\n",
              "    </tr>\n",
              "    <tr>\n",
              "      <th>15</th>\n",
              "      <td>10/10/2022 12:12:34</td>\n",
              "      <td>Criminal Justice</td>\n",
              "    </tr>\n",
              "    <tr>\n",
              "      <th>16</th>\n",
              "      <td>10/10/2022 12:12:34</td>\n",
              "      <td>Business</td>\n",
              "    </tr>\n",
              "    <tr>\n",
              "      <th>17</th>\n",
              "      <td>10/10/2022 12:12:34</td>\n",
              "      <td>Finance</td>\n",
              "    </tr>\n",
              "    <tr>\n",
              "      <th>18</th>\n",
              "      <td>10/10/2022 12:12:34</td>\n",
              "      <td>Exercise Science</td>\n",
              "    </tr>\n",
              "    <tr>\n",
              "      <th>19</th>\n",
              "      <td>10/10/2022 12:12:35</td>\n",
              "      <td>Health Science</td>\n",
              "    </tr>\n",
              "    <tr>\n",
              "      <th>20</th>\n",
              "      <td>10/10/2022 12:12:37</td>\n",
              "      <td>Accounting</td>\n",
              "    </tr>\n",
              "    <tr>\n",
              "      <th>21</th>\n",
              "      <td>10/10/2022 12:12:38</td>\n",
              "      <td>Computer Science</td>\n",
              "    </tr>\n",
              "    <tr>\n",
              "      <th>22</th>\n",
              "      <td>10/10/2022 12:12:39</td>\n",
              "      <td>Accounting</td>\n",
              "    </tr>\n",
              "    <tr>\n",
              "      <th>23</th>\n",
              "      <td>10/10/2022 12:12:39</td>\n",
              "      <td>Marketing</td>\n",
              "    </tr>\n",
              "    <tr>\n",
              "      <th>24</th>\n",
              "      <td>10/10/2022 12:12:41</td>\n",
              "      <td>Business</td>\n",
              "    </tr>\n",
              "    <tr>\n",
              "      <th>25</th>\n",
              "      <td>10/10/2022 12:12:43</td>\n",
              "      <td>Health Science</td>\n",
              "    </tr>\n",
              "    <tr>\n",
              "      <th>26</th>\n",
              "      <td>10/10/2022 12:12:44</td>\n",
              "      <td>Accounting</td>\n",
              "    </tr>\n",
              "    <tr>\n",
              "      <th>27</th>\n",
              "      <td>10/10/2022 12:12:47</td>\n",
              "      <td>Computer Science</td>\n",
              "    </tr>\n",
              "    <tr>\n",
              "      <th>28</th>\n",
              "      <td>10/10/2022 12:12:50</td>\n",
              "      <td>Business</td>\n",
              "    </tr>\n",
              "    <tr>\n",
              "      <th>29</th>\n",
              "      <td>10/10/2022 12:12:51</td>\n",
              "      <td>Finance</td>\n",
              "    </tr>\n",
              "    <tr>\n",
              "      <th>30</th>\n",
              "      <td>10/10/2022 12:12:55</td>\n",
              "      <td>Business</td>\n",
              "    </tr>\n",
              "    <tr>\n",
              "      <th>31</th>\n",
              "      <td>10/10/2022 12:13:16</td>\n",
              "      <td>Criminal Justice</td>\n",
              "    </tr>\n",
              "    <tr>\n",
              "      <th>32</th>\n",
              "      <td>10/10/2022 12:13:18</td>\n",
              "      <td>Accounting</td>\n",
              "    </tr>\n",
              "    <tr>\n",
              "      <th>33</th>\n",
              "      <td>10/10/2022 12:13:20</td>\n",
              "      <td>Marketing</td>\n",
              "    </tr>\n",
              "    <tr>\n",
              "      <th>34</th>\n",
              "      <td>10/10/2022 12:13:20</td>\n",
              "      <td>Business</td>\n",
              "    </tr>\n",
              "    <tr>\n",
              "      <th>35</th>\n",
              "      <td>10/10/2022 12:13:29</td>\n",
              "      <td>Math</td>\n",
              "    </tr>\n",
              "    <tr>\n",
              "      <th>36</th>\n",
              "      <td>10/10/2022 12:13:35</td>\n",
              "      <td>English</td>\n",
              "    </tr>\n",
              "    <tr>\n",
              "      <th>37</th>\n",
              "      <td>10/10/2022 12:13:44</td>\n",
              "      <td>Business</td>\n",
              "    </tr>\n",
              "    <tr>\n",
              "      <th>38</th>\n",
              "      <td>10/10/2022 12:13:45</td>\n",
              "      <td>Health Science</td>\n",
              "    </tr>\n",
              "    <tr>\n",
              "      <th>39</th>\n",
              "      <td>10/10/2022 12:13:46</td>\n",
              "      <td>Business</td>\n",
              "    </tr>\n",
              "    <tr>\n",
              "      <th>40</th>\n",
              "      <td>10/10/2022 12:13:50</td>\n",
              "      <td>Finance</td>\n",
              "    </tr>\n",
              "    <tr>\n",
              "      <th>41</th>\n",
              "      <td>10/10/2022 12:14:01</td>\n",
              "      <td>Health Science</td>\n",
              "    </tr>\n",
              "    <tr>\n",
              "      <th>42</th>\n",
              "      <td>10/10/2022 12:14:04</td>\n",
              "      <td>Marketing</td>\n",
              "    </tr>\n",
              "  </tbody>\n",
              "</table>\n",
              "</div>\n",
              "      <button class=\"colab-df-convert\" onclick=\"convertToInteractive('df-66713ed3-504c-43d8-a0e1-fe359f747831')\"\n",
              "              title=\"Convert this dataframe to an interactive table.\"\n",
              "              style=\"display:none;\">\n",
              "        \n",
              "  <svg xmlns=\"http://www.w3.org/2000/svg\" height=\"24px\"viewBox=\"0 0 24 24\"\n",
              "       width=\"24px\">\n",
              "    <path d=\"M0 0h24v24H0V0z\" fill=\"none\"/>\n",
              "    <path d=\"M18.56 5.44l.94 2.06.94-2.06 2.06-.94-2.06-.94-.94-2.06-.94 2.06-2.06.94zm-11 1L8.5 8.5l.94-2.06 2.06-.94-2.06-.94L8.5 2.5l-.94 2.06-2.06.94zm10 10l.94 2.06.94-2.06 2.06-.94-2.06-.94-.94-2.06-.94 2.06-2.06.94z\"/><path d=\"M17.41 7.96l-1.37-1.37c-.4-.4-.92-.59-1.43-.59-.52 0-1.04.2-1.43.59L10.3 9.45l-7.72 7.72c-.78.78-.78 2.05 0 2.83L4 21.41c.39.39.9.59 1.41.59.51 0 1.02-.2 1.41-.59l7.78-7.78 2.81-2.81c.8-.78.8-2.07 0-2.86zM5.41 20L4 18.59l7.72-7.72 1.47 1.35L5.41 20z\"/>\n",
              "  </svg>\n",
              "      </button>\n",
              "      \n",
              "  <style>\n",
              "    .colab-df-container {\n",
              "      display:flex;\n",
              "      flex-wrap:wrap;\n",
              "      gap: 12px;\n",
              "    }\n",
              "\n",
              "    .colab-df-convert {\n",
              "      background-color: #E8F0FE;\n",
              "      border: none;\n",
              "      border-radius: 50%;\n",
              "      cursor: pointer;\n",
              "      display: none;\n",
              "      fill: #1967D2;\n",
              "      height: 32px;\n",
              "      padding: 0 0 0 0;\n",
              "      width: 32px;\n",
              "    }\n",
              "\n",
              "    .colab-df-convert:hover {\n",
              "      background-color: #E2EBFA;\n",
              "      box-shadow: 0px 1px 2px rgba(60, 64, 67, 0.3), 0px 1px 3px 1px rgba(60, 64, 67, 0.15);\n",
              "      fill: #174EA6;\n",
              "    }\n",
              "\n",
              "    [theme=dark] .colab-df-convert {\n",
              "      background-color: #3B4455;\n",
              "      fill: #D2E3FC;\n",
              "    }\n",
              "\n",
              "    [theme=dark] .colab-df-convert:hover {\n",
              "      background-color: #434B5C;\n",
              "      box-shadow: 0px 1px 3px 1px rgba(0, 0, 0, 0.15);\n",
              "      filter: drop-shadow(0px 1px 2px rgba(0, 0, 0, 0.3));\n",
              "      fill: #FFFFFF;\n",
              "    }\n",
              "  </style>\n",
              "\n",
              "      <script>\n",
              "        const buttonEl =\n",
              "          document.querySelector('#df-66713ed3-504c-43d8-a0e1-fe359f747831 button.colab-df-convert');\n",
              "        buttonEl.style.display =\n",
              "          google.colab.kernel.accessAllowed ? 'block' : 'none';\n",
              "\n",
              "        async function convertToInteractive(key) {\n",
              "          const element = document.querySelector('#df-66713ed3-504c-43d8-a0e1-fe359f747831');\n",
              "          const dataTable =\n",
              "            await google.colab.kernel.invokeFunction('convertToInteractive',\n",
              "                                                     [key], {});\n",
              "          if (!dataTable) return;\n",
              "\n",
              "          const docLinkHtml = 'Like what you see? Visit the ' +\n",
              "            '<a target=\"_blank\" href=https://colab.research.google.com/notebooks/data_table.ipynb>data table notebook</a>'\n",
              "            + ' to learn more about interactive tables.';\n",
              "          element.innerHTML = '';\n",
              "          dataTable['output_type'] = 'display_data';\n",
              "          await google.colab.output.renderOutput(dataTable, element);\n",
              "          const docLink = document.createElement('div');\n",
              "          docLink.innerHTML = docLinkHtml;\n",
              "          element.appendChild(docLink);\n",
              "        }\n",
              "      </script>\n",
              "    </div>\n",
              "  </div>\n",
              "  "
            ]
          },
          "metadata": {},
          "execution_count": 36
        }
      ]
    },
    {
      "cell_type": "markdown",
      "source": [
        "Data imported from survey that is linked"
      ],
      "metadata": {
        "id": "yM5Uk7Erk1-_"
      }
    },
    {
      "cell_type": "code",
      "source": [
        "data = np.array(data)\n"
      ],
      "metadata": {
        "id": "PbmHV5sqrtin"
      },
      "execution_count": 37,
      "outputs": []
    },
    {
      "cell_type": "code",
      "source": [
        "data.shape\n"
      ],
      "metadata": {
        "colab": {
          "base_uri": "https://localhost:8080/"
        },
        "id": "07daIhv7rwdu",
        "outputId": "57f99ff0-7151-4c89-8350-decbe65da6e9"
      },
      "execution_count": 38,
      "outputs": [
        {
          "output_type": "execute_result",
          "data": {
            "text/plain": [
              "(43, 2)"
            ]
          },
          "metadata": {},
          "execution_count": 38
        }
      ]
    },
    {
      "cell_type": "code",
      "source": [
        "majors = data[:,1]"
      ],
      "metadata": {
        "id": "R5WfrNSHr0Xs"
      },
      "execution_count": 39,
      "outputs": []
    },
    {
      "cell_type": "code",
      "source": [
        "Computer_Science = np.sum(majors == 'Computer Science')\n",
        "English = np.sum(majors == 'English')\n",
        "Accounting = np.sum(majors == 'Accounting')"
      ],
      "metadata": {
        "id": "l0fVIALSr3fY"
      },
      "execution_count": 40,
      "outputs": []
    },
    {
      "cell_type": "markdown",
      "source": [
        "Defining terms"
      ],
      "metadata": {
        "id": "VAn0tyuRk8EO"
      }
    },
    {
      "cell_type": "code",
      "source": [
        "names = ['Computer Science', 'English']\n",
        "values = [Computer_Science, English]\n",
        "\n",
        "plt.bar(names, values)\n"
      ],
      "metadata": {
        "colab": {
          "base_uri": "https://localhost:8080/",
          "height": 283
        },
        "id": "8D45Q3iYr8mP",
        "outputId": "6129bcb1-0f77-4f81-cc59-e619cf5df600"
      },
      "execution_count": 41,
      "outputs": [
        {
          "output_type": "execute_result",
          "data": {
            "text/plain": [
              "<BarContainer object of 2 artists>"
            ]
          },
          "metadata": {},
          "execution_count": 41
        },
        {
          "output_type": "display_data",
          "data": {
            "text/plain": [
              "<Figure size 432x288 with 1 Axes>"
            ],
            "image/png": "[encoded data removed]"
          },
          "metadata": {
            "needs_background": "light"
          }
        }
      ]
    },
    {
      "cell_type": "markdown",
      "source": [
        "Comparative chart between two majors"
      ],
      "metadata": {
        "id": "3ZNF77Jlk-Lt"
      }
    },
    {
      "cell_type": "code",
      "source": [
        "majors\n"
      ],
      "metadata": {
        "colab": {
          "base_uri": "https://localhost:8080/"
        },
        "id": "i3p2KONysDPK",
        "outputId": "93375d25-8b37-4356-e110-8605d8096e0f"
      },
      "execution_count": 42,
      "outputs": [
        {
          "output_type": "execute_result",
          "data": {
            "text/plain": [
              "array(['Computer Science', 'English', 'Accounting', 'Exercise Science',\n",
              "       'Health Science', 'Finance', 'Criminal Justice', 'Business',\n",
              "       'Accounting', 'Health Science', 'Geology', 'Business',\n",
              "       \"Don't know\", 'Criminal Justice', 'Accounting', 'Criminal Justice',\n",
              "       'Business', 'Finance', 'Exercise Science', 'Health Science',\n",
              "       'Accounting', 'Computer Science', 'Accounting', 'Marketing',\n",
              "       'Business', 'Health Science', 'Accounting', 'Computer Science',\n",
              "       'Business', 'Finance', 'Business', 'Criminal Justice',\n",
              "       'Accounting', 'Marketing', 'Business', 'Math', 'English',\n",
              "       'Business', 'Health Science', 'Business', 'Finance',\n",
              "       'Health Science', 'Marketing'], dtype=object)"
            ]
          },
          "metadata": {},
          "execution_count": 42
        }
      ]
    },
    {
      "cell_type": "code",
      "source": [
        "Math = np.sum(majors == 'Math')\n",
        "Marketing = np.sum(majors == 'Marketing')"
      ],
      "metadata": {
        "id": "0uJFaOrzsPvQ"
      },
      "execution_count": 43,
      "outputs": []
    },
    {
      "cell_type": "code",
      "source": [
        "Math"
      ],
      "metadata": {
        "colab": {
          "base_uri": "https://localhost:8080/"
        },
        "id": "Cz3KOLiYsQUM",
        "outputId": "ded428bf-54d7-4de2-9939-f0262368f70a"
      },
      "execution_count": 44,
      "outputs": [
        {
          "output_type": "execute_result",
          "data": {
            "text/plain": [
              "1"
            ]
          },
          "metadata": {},
          "execution_count": 44
        }
      ]
    },
    {
      "cell_type": "code",
      "source": [
        "Marketing"
      ],
      "metadata": {
        "colab": {
          "base_uri": "https://localhost:8080/"
        },
        "id": "E9TCEg_RsRz5",
        "outputId": "4ef21264-ebea-4c07-e9c1-0ff4aede308a"
      },
      "execution_count": 45,
      "outputs": [
        {
          "output_type": "execute_result",
          "data": {
            "text/plain": [
              "3"
            ]
          },
          "metadata": {},
          "execution_count": 45
        }
      ]
    },
    {
      "cell_type": "code",
      "source": [
        "names = ['Math', 'Marketing']\n",
        "values = [Math, Marketing]\n",
        "\n",
        "plt.bar(names, values)"
      ],
      "metadata": {
        "colab": {
          "base_uri": "https://localhost:8080/",
          "height": 283
        },
        "id": "hrruumREsTdT",
        "outputId": "16118137-16fe-4245-fc04-d7bfde78bd50"
      },
      "execution_count": 46,
      "outputs": [
        {
          "output_type": "execute_result",
          "data": {
            "text/plain": [
              "<BarContainer object of 2 artists>"
            ]
          },
          "metadata": {},
          "execution_count": 46
        },
        {
          "output_type": "display_data",
          "data": {
            "text/plain": [
              "<Figure size 432x288 with 1 Axes>"
            ],
            "image/png": "[encoded data removed]"
          },
          "metadata": {
            "needs_background": "light"
          }
        }
      ]
    },
    {
      "cell_type": "code",
      "source": [
        "majors\n"
      ],
      "metadata": {
        "colab": {
          "base_uri": "https://localhost:8080/"
        },
        "id": "VOvdyEXIsVH1",
        "outputId": "c378ba56-5ba7-4df6-a075-2b3d7afe1b2c"
      },
      "execution_count": 47,
      "outputs": [
        {
          "output_type": "execute_result",
          "data": {
            "text/plain": [
              "array(['Computer Science', 'English', 'Accounting', 'Exercise Science',\n",
              "       'Health Science', 'Finance', 'Criminal Justice', 'Business',\n",
              "       'Accounting', 'Health Science', 'Geology', 'Business',\n",
              "       \"Don't know\", 'Criminal Justice', 'Accounting', 'Criminal Justice',\n",
              "       'Business', 'Finance', 'Exercise Science', 'Health Science',\n",
              "       'Accounting', 'Computer Science', 'Accounting', 'Marketing',\n",
              "       'Business', 'Health Science', 'Accounting', 'Computer Science',\n",
              "       'Business', 'Finance', 'Business', 'Criminal Justice',\n",
              "       'Accounting', 'Marketing', 'Business', 'Math', 'English',\n",
              "       'Business', 'Health Science', 'Business', 'Finance',\n",
              "       'Health Science', 'Marketing'], dtype=object)"
            ]
          },
          "metadata": {},
          "execution_count": 47
        }
      ]
    },
    {
      "cell_type": "code",
      "source": [
        "D = {}\n",
        "\n",
        "for major in majors:\n",
        "    \n",
        "    count = np.sum(majors == major)\n",
        "\n",
        "    print(major, count)\n",
        "\n",
        "    D[major] = count"
      ],
      "metadata": {
        "colab": {
          "base_uri": "https://localhost:8080/"
        },
        "id": "pm7yKkYpsXKu",
        "outputId": "fd19b2e2-9d78-424e-e7bf-0532a9230d56"
      },
      "execution_count": 48,
      "outputs": [
        {
          "output_type": "stream",
          "name": "stdout",
          "text": [
            "Computer Science 3\n",
            "English 2\n",
            "Accounting 7\n",
            "Exercise Science 2\n",
            "Health Science 6\n",
            "Finance 4\n",
            "Criminal Justice 4\n",
            "Business 9\n",
            "Accounting 7\n",
            "Health Science 6\n",
            "Geology 1\n",
            "Business 9\n",
            "Don't know 1\n",
            "Criminal Justice 4\n",
            "Accounting 7\n",
            "Criminal Justice 4\n",
            "Business 9\n",
            "Finance 4\n",
            "Exercise Science 2\n",
            "Health Science 6\n",
            "Accounting 7\n",
            "Computer Science 3\n",
            "Accounting 7\n",
            "Marketing 3\n",
            "Business 9\n",
            "Health Science 6\n",
            "Accounting 7\n",
            "Computer Science 3\n",
            "Business 9\n",
            "Finance 4\n",
            "Business 9\n",
            "Criminal Justice 4\n",
            "Accounting 7\n",
            "Marketing 3\n",
            "Business 9\n",
            "Math 1\n",
            "English 2\n",
            "Business 9\n",
            "Health Science 6\n",
            "Business 9\n",
            "Finance 4\n",
            "Health Science 6\n",
            "Marketing 3\n"
          ]
        }
      ]
    },
    {
      "cell_type": "markdown",
      "source": [
        "Responses sorted by major and number of responses"
      ],
      "metadata": {
        "id": "mKaGj_ljlHJH"
      }
    },
    {
      "cell_type": "code",
      "source": [
        "names = list(D.keys())\n",
        "values = list(D.values())\n",
        "\n",
        "N = len(names)\n",
        "cmap = plt.cm.tab10\n",
        "colors = cmap(np.arange(N) % cmap.N)\n",
        "\n",
        "plt.bar(range(len(D)), values, tick_label=names, color = colors)\n",
        "plt.show()"
      ],
      "metadata": {
        "colab": {
          "base_uri": "https://localhost:8080/",
          "height": 265
        },
        "id": "gIG9EHhKsZlh",
        "outputId": "d70cff50-1ada-47d7-dbfa-b93668386b15"
      },
      "execution_count": 49,
      "outputs": [
        {
          "output_type": "display_data",
          "data": {
            "text/plain": [
              "<Figure size 432x288 with 1 Axes>"
            ],
            "image/png": "[encoded data removed]"
          },
          "metadata": {
            "needs_background": "light"
          }
        }
      ]
    },
    {
      "cell_type": "markdown",
      "source": [
        "Chart visualization of above with some processing issues"
      ],
      "metadata": {
        "id": "ugF2yUtMlLLj"
      }
    },
    {
      "cell_type": "code",
      "source": [],
      "metadata": {
        "id": "qdU6PqIzt7nf"
      },
      "execution_count": 49,
      "outputs": []
    },
    {
      "cell_type": "code",
      "source": [],
      "metadata": {
        "id": "NIRLQg1at7pn"
      },
      "execution_count": 49,
      "outputs": []
    },
    {
      "cell_type": "code",
      "source": [],
      "metadata": {
        "id": "w5S6GIQSt77O"
      },
      "execution_count": 49,
      "outputs": []
    },
    {
      "cell_type": "markdown",
      "source": [
        "#Ice Cream\n",
        "https://forms.gle/r2wLRSyuTb79dynY6\n",
        "\n"
      ],
      "metadata": {
        "id": "ANVTDbokt8DO"
      }
    },
    {
      "cell_type": "code",
      "source": [
        "url_ice_cream = \"https://docs.google.com/spreadsheets/d/1J_xuTprgXEmWRLmkROpc-YQ2S-cTOLkk0OWAfX4br_0/edit?usp=sharing\"\n"
      ],
      "metadata": {
        "id": "DuU6UenFuZ_9"
      },
      "execution_count": 59,
      "outputs": []
    },
    {
      "cell_type": "code",
      "source": [
        "data = get_database(url_ice_cream)\n"
      ],
      "metadata": {
        "id": "GUeV-qkjugeG"
      },
      "execution_count": 60,
      "outputs": []
    },
    {
      "cell_type": "code",
      "source": [
        "data"
      ],
      "metadata": {
        "colab": {
          "base_uri": "https://localhost:8080/",
          "height": 1000
        },
        "id": "Z-irvjw3ulke",
        "outputId": "a9459834-b1f8-40ee-d598-d6b8f9e15ac1"
      },
      "execution_count": 61,
      "outputs": [
        {
          "output_type": "execute_result",
          "data": {
            "text/plain": [
              "              Timestamp       Fav Ice Cream Cup / Cone / Cookie Sandwich  \\\n",
              "0   10/10/2022 12:26:06        Cookie Dough              Cookie Sandwich   \n",
              "1   10/10/2022 12:26:14        Butter Pecan                         Cone   \n",
              "2   10/10/2022 12:26:19               Mango                          Cup   \n",
              "3   10/10/2022 12:26:19                Mint                         Cone   \n",
              "4   10/10/2022 12:26:21        Cookie Dough                          Cup   \n",
              "5   10/10/2022 12:26:22    Cookie and Cream                          Cup   \n",
              "6   10/10/2022 12:26:22           Chocolate                          Cup   \n",
              "7   10/10/2022 12:26:29           Chocolate                          Cup   \n",
              "8   10/10/2022 12:26:30                Mint              Cookie Sandwich   \n",
              "9   10/10/2022 12:26:32            Vanillia              Cookie Sandwich   \n",
              "10  10/10/2022 12:26:36       Birthday Cake                         Cone   \n",
              "11  10/10/2022 12:26:39        Cookie Dough                          Cup   \n",
              "12  10/10/2022 12:26:40           Chocolate                         Cone   \n",
              "13  10/10/2022 12:26:41           Chocolate                         Cone   \n",
              "14  10/10/2022 12:26:50           Chocolate                         Cone   \n",
              "15  10/10/2022 12:26:51           Chocolate                          Cup   \n",
              "16  10/10/2022 12:26:51          Strawberry                         Cone   \n",
              "17  10/10/2022 12:26:57    Cookie and Cream                         Cone   \n",
              "18  10/10/2022 12:26:59        Butter Pecan                          Cup   \n",
              "19  10/10/2022 12:27:01           Chocolate                          Cup   \n",
              "20  10/10/2022 12:27:01          Strawberry                          Cup   \n",
              "21  10/10/2022 12:27:07    Cookie and Cream                         Cone   \n",
              "22  10/10/2022 12:27:08            Vanillia                          Cup   \n",
              "23  10/10/2022 12:27:13               Mango                         Cone   \n",
              "24  10/10/2022 12:27:16           Chocolate                         Cone   \n",
              "25  10/10/2022 12:27:21        Cookie Dough                         Cone   \n",
              "26  10/10/2022 12:27:24    Cookie and Cream                         Cone   \n",
              "27  10/10/2022 12:27:30               Mango                          Cup   \n",
              "28  10/10/2022 12:27:39  Pralines and Cream                         Cone   \n",
              "29  10/10/2022 12:28:06           Chocolate              Cookie Sandwich   \n",
              "30  10/10/2022 12:28:19                Mint              Cookie Sandwich   \n",
              "31  10/10/2022 12:29:49        Cookie Dough                          Cup   \n",
              "\n",
              "                            Toppings                     Special Requests:  \n",
              "0                            Caramel                           Warm Cookie  \n",
              "1                            Caramel                                   NaN  \n",
              "2                          Sprinkles                                  none  \n",
              "3                       Marshmallows                         Whipped cream  \n",
              "4                          Sprinkles                                 oreos  \n",
              "5   Sprinkles, Caramel, Marshmallows                                   NaN  \n",
              "6            Caramel, Gummies, Candy                              brownies  \n",
              "7                          Sprinkles                    no special request  \n",
              "8                            Caramel            Make the cookies chocolate  \n",
              "9                              Fudge                                     .  \n",
              "10                Sprinkles, Caramel                                   N/a  \n",
              "11                Chips, Nuts, Candy                                takis   \n",
              "12  Sprinkles, Chips, Gummies, Candy                                to go   \n",
              "13                             Fudge                         whipped cream  \n",
              "14                         Sprinkles                   soft serve only tho  \n",
              "15                             Candy                            soft serve  \n",
              "16             Caramel, Marshmallows        only cake cone not waffle cone  \n",
              "17          Sprinkles, Nuts, Gummies                                  None  \n",
              "18                              Nuts                              Cherries  \n",
              "19                             Chips             Cake cones > waffle cones  \n",
              "20                           Gummies                                   NaN  \n",
              "21                         Sprinkles                           No toppings  \n",
              "22                     Caramel, Nuts                   Whip Cream as well   \n",
              "23                             Chips                                  none  \n",
              "24         Sprinkles, Fudge, Caramel                                    No  \n",
              "25         Sprinkles, Fudge, Caramel                                     -  \n",
              "26                             Chips                            Ice cream   \n",
              "27                      Marshmallows                         with caramel   \n",
              "28  Sprinkles, Chips, Fudge, Caramel  chocolate coated waffle cone (fresh)  \n",
              "29                Sprinkles, Caramel                                  m&ms  \n",
              "30                    Fudge, Caramel            make the cookies chocolate  \n",
              "31                    Fudge, Gummies                                  none  "
            ],
            "text/html": [
              "\n",
              "  <div id=\"df-969c71c7-27f9-49f1-baa9-450aa9bbca93\">\n",
              "    <div class=\"colab-df-container\">\n",
              "      <div>\n",
              "<style scoped>\n",
              "    .dataframe tbody tr th:only-of-type {\n",
              "        vertical-align: middle;\n",
              "    }\n",
              "\n",
              "    .dataframe tbody tr th {\n",
              "        vertical-align: top;\n",
              "    }\n",
              "\n",
              "    .dataframe thead th {\n",
              "        text-align: right;\n",
              "    }\n",
              "</style>\n",
              "<table border=\"1\" class=\"dataframe\">\n",
              "  <thead>\n",
              "    <tr style=\"text-align: right;\">\n",
              "      <th></th>\n",
              "      <th>Timestamp</th>\n",
              "      <th>Fav Ice Cream</th>\n",
              "      <th>Cup / Cone / Cookie Sandwich</th>\n",
              "      <th>Toppings</th>\n",
              "      <th>Special Requests:</th>\n",
              "    </tr>\n",
              "  </thead>\n",
              "  <tbody>\n",
              "    <tr>\n",
              "      <th>0</th>\n",
              "      <td>10/10/2022 12:26:06</td>\n",
              "      <td>Cookie Dough</td>\n",
              "      <td>Cookie Sandwich</td>\n",
              "      <td>Caramel</td>\n",
              "      <td>Warm Cookie</td>\n",
              "    </tr>\n",
              "    <tr>\n",
              "      <th>1</th>\n",
              "      <td>10/10/2022 12:26:14</td>\n",
              "      <td>Butter Pecan</td>\n",
              "      <td>Cone</td>\n",
              "      <td>Caramel</td>\n",
              "      <td>NaN</td>\n",
              "    </tr>\n",
              "    <tr>\n",
              "      <th>2</th>\n",
              "      <td>10/10/2022 12:26:19</td>\n",
              "      <td>Mango</td>\n",
              "      <td>Cup</td>\n",
              "      <td>Sprinkles</td>\n",
              "      <td>none</td>\n",
              "    </tr>\n",
              "    <tr>\n",
              "      <th>3</th>\n",
              "      <td>10/10/2022 12:26:19</td>\n",
              "      <td>Mint</td>\n",
              "      <td>Cone</td>\n",
              "      <td>Marshmallows</td>\n",
              "      <td>Whipped cream</td>\n",
              "    </tr>\n",
              "    <tr>\n",
              "      <th>4</th>\n",
              "      <td>10/10/2022 12:26:21</td>\n",
              "      <td>Cookie Dough</td>\n",
              "      <td>Cup</td>\n",
              "      <td>Sprinkles</td>\n",
              "      <td>oreos</td>\n",
              "    </tr>\n",
              "    <tr>\n",
              "      <th>5</th>\n",
              "      <td>10/10/2022 12:26:22</td>\n",
              "      <td>Cookie and Cream</td>\n",
              "      <td>Cup</td>\n",
              "      <td>Sprinkles, Caramel, Marshmallows</td>\n",
              "      <td>NaN</td>\n",
              "    </tr>\n",
              "    <tr>\n",
              "      <th>6</th>\n",
              "      <td>10/10/2022 12:26:22</td>\n",
              "      <td>Chocolate</td>\n",
              "      <td>Cup</td>\n",
              "      <td>Caramel, Gummies, Candy</td>\n",
              "      <td>brownies</td>\n",
              "    </tr>\n",
              "    <tr>\n",
              "      <th>7</th>\n",
              "      <td>10/10/2022 12:26:29</td>\n",
              "      <td>Chocolate</td>\n",
              "      <td>Cup</td>\n",
              "      <td>Sprinkles</td>\n",
              "      <td>no special request</td>\n",
              "    </tr>\n",
              "    <tr>\n",
              "      <th>8</th>\n",
              "      <td>10/10/2022 12:26:30</td>\n",
              "      <td>Mint</td>\n",
              "      <td>Cookie Sandwich</td>\n",
              "      <td>Caramel</td>\n",
              "      <td>Make the cookies chocolate</td>\n",
              "    </tr>\n",
              "    <tr>\n",
              "      <th>9</th>\n",
              "      <td>10/10/2022 12:26:32</td>\n",
              "      <td>Vanillia</td>\n",
              "      <td>Cookie Sandwich</td>\n",
              "      <td>Fudge</td>\n",
              "      <td>.</td>\n",
              "    </tr>\n",
              "    <tr>\n",
              "      <th>10</th>\n",
              "      <td>10/10/2022 12:26:36</td>\n",
              "      <td>Birthday Cake</td>\n",
              "      <td>Cone</td>\n",
              "      <td>Sprinkles, Caramel</td>\n",
              "      <td>N/a</td>\n",
              "    </tr>\n",
              "    <tr>\n",
              "      <th>11</th>\n",
              "      <td>10/10/2022 12:26:39</td>\n",
              "      <td>Cookie Dough</td>\n",
              "      <td>Cup</td>\n",
              "      <td>Chips, Nuts, Candy</td>\n",
              "      <td>takis</td>\n",
              "    </tr>\n",
              "    <tr>\n",
              "      <th>12</th>\n",
              "      <td>10/10/2022 12:26:40</td>\n",
              "      <td>Chocolate</td>\n",
              "      <td>Cone</td>\n",
              "      <td>Sprinkles, Chips, Gummies, Candy</td>\n",
              "      <td>to go</td>\n",
              "    </tr>\n",
              "    <tr>\n",
              "      <th>13</th>\n",
              "      <td>10/10/2022 12:26:41</td>\n",
              "      <td>Chocolate</td>\n",
              "      <td>Cone</td>\n",
              "      <td>Fudge</td>\n",
              "      <td>whipped cream</td>\n",
              "    </tr>\n",
              "    <tr>\n",
              "      <th>14</th>\n",
              "      <td>10/10/2022 12:26:50</td>\n",
              "      <td>Chocolate</td>\n",
              "      <td>Cone</td>\n",
              "      <td>Sprinkles</td>\n",
              "      <td>soft serve only tho</td>\n",
              "    </tr>\n",
              "    <tr>\n",
              "      <th>15</th>\n",
              "      <td>10/10/2022 12:26:51</td>\n",
              "      <td>Chocolate</td>\n",
              "      <td>Cup</td>\n",
              "      <td>Candy</td>\n",
              "      <td>soft serve</td>\n",
              "    </tr>\n",
              "    <tr>\n",
              "      <th>16</th>\n",
              "      <td>10/10/2022 12:26:51</td>\n",
              "      <td>Strawberry</td>\n",
              "      <td>Cone</td>\n",
              "      <td>Caramel, Marshmallows</td>\n",
              "      <td>only cake cone not waffle cone</td>\n",
              "    </tr>\n",
              "    <tr>\n",
              "      <th>17</th>\n",
              "      <td>10/10/2022 12:26:57</td>\n",
              "      <td>Cookie and Cream</td>\n",
              "      <td>Cone</td>\n",
              "      <td>Sprinkles, Nuts, Gummies</td>\n",
              "      <td>None</td>\n",
              "    </tr>\n",
              "    <tr>\n",
              "      <th>18</th>\n",
              "      <td>10/10/2022 12:26:59</td>\n",
              "      <td>Butter Pecan</td>\n",
              "      <td>Cup</td>\n",
              "      <td>Nuts</td>\n",
              "      <td>Cherries</td>\n",
              "    </tr>\n",
              "    <tr>\n",
              "      <th>19</th>\n",
              "      <td>10/10/2022 12:27:01</td>\n",
              "      <td>Chocolate</td>\n",
              "      <td>Cup</td>\n",
              "      <td>Chips</td>\n",
              "      <td>Cake cones &gt; waffle cones</td>\n",
              "    </tr>\n",
              "    <tr>\n",
              "      <th>20</th>\n",
              "      <td>10/10/2022 12:27:01</td>\n",
              "      <td>Strawberry</td>\n",
              "      <td>Cup</td>\n",
              "      <td>Gummies</td>\n",
              "      <td>NaN</td>\n",
              "    </tr>\n",
              "    <tr>\n",
              "      <th>21</th>\n",
              "      <td>10/10/2022 12:27:07</td>\n",
              "      <td>Cookie and Cream</td>\n",
              "      <td>Cone</td>\n",
              "      <td>Sprinkles</td>\n",
              "      <td>No toppings</td>\n",
              "    </tr>\n",
              "    <tr>\n",
              "      <th>22</th>\n",
              "      <td>10/10/2022 12:27:08</td>\n",
              "      <td>Vanillia</td>\n",
              "      <td>Cup</td>\n",
              "      <td>Caramel, Nuts</td>\n",
              "      <td>Whip Cream as well</td>\n",
              "    </tr>\n",
              "    <tr>\n",
              "      <th>23</th>\n",
              "      <td>10/10/2022 12:27:13</td>\n",
              "      <td>Mango</td>\n",
              "      <td>Cone</td>\n",
              "      <td>Chips</td>\n",
              "      <td>none</td>\n",
              "    </tr>\n",
              "    <tr>\n",
              "      <th>24</th>\n",
              "      <td>10/10/2022 12:27:16</td>\n",
              "      <td>Chocolate</td>\n",
              "      <td>Cone</td>\n",
              "      <td>Sprinkles, Fudge, Caramel</td>\n",
              "      <td>No</td>\n",
              "    </tr>\n",
              "    <tr>\n",
              "      <th>25</th>\n",
              "      <td>10/10/2022 12:27:21</td>\n",
              "      <td>Cookie Dough</td>\n",
              "      <td>Cone</td>\n",
              "      <td>Sprinkles, Fudge, Caramel</td>\n",
              "      <td>-</td>\n",
              "    </tr>\n",
              "    <tr>\n",
              "      <th>26</th>\n",
              "      <td>10/10/2022 12:27:24</td>\n",
              "      <td>Cookie and Cream</td>\n",
              "      <td>Cone</td>\n",
              "      <td>Chips</td>\n",
              "      <td>Ice cream</td>\n",
              "    </tr>\n",
              "    <tr>\n",
              "      <th>27</th>\n",
              "      <td>10/10/2022 12:27:30</td>\n",
              "      <td>Mango</td>\n",
              "      <td>Cup</td>\n",
              "      <td>Marshmallows</td>\n",
              "      <td>with caramel</td>\n",
              "    </tr>\n",
              "    <tr>\n",
              "      <th>28</th>\n",
              "      <td>10/10/2022 12:27:39</td>\n",
              "      <td>Pralines and Cream</td>\n",
              "      <td>Cone</td>\n",
              "      <td>Sprinkles, Chips, Fudge, Caramel</td>\n",
              "      <td>chocolate coated waffle cone (fresh)</td>\n",
              "    </tr>\n",
              "    <tr>\n",
              "      <th>29</th>\n",
              "      <td>10/10/2022 12:28:06</td>\n",
              "      <td>Chocolate</td>\n",
              "      <td>Cookie Sandwich</td>\n",
              "      <td>Sprinkles, Caramel</td>\n",
              "      <td>m&amp;ms</td>\n",
              "    </tr>\n",
              "    <tr>\n",
              "      <th>30</th>\n",
              "      <td>10/10/2022 12:28:19</td>\n",
              "      <td>Mint</td>\n",
              "      <td>Cookie Sandwich</td>\n",
              "      <td>Fudge, Caramel</td>\n",
              "      <td>make the cookies chocolate</td>\n",
              "    </tr>\n",
              "    <tr>\n",
              "      <th>31</th>\n",
              "      <td>10/10/2022 12:29:49</td>\n",
              "      <td>Cookie Dough</td>\n",
              "      <td>Cup</td>\n",
              "      <td>Fudge, Gummies</td>\n",
              "      <td>none</td>\n",
              "    </tr>\n",
              "  </tbody>\n",
              "</table>\n",
              "</div>\n",
              "      <button class=\"colab-df-convert\" onclick=\"convertToInteractive('df-969c71c7-27f9-49f1-baa9-450aa9bbca93')\"\n",
              "              title=\"Convert this dataframe to an interactive table.\"\n",
              "              style=\"display:none;\">\n",
              "        \n",
              "  <svg xmlns=\"http://www.w3.org/2000/svg\" height=\"24px\"viewBox=\"0 0 24 24\"\n",
              "       width=\"24px\">\n",
              "    <path d=\"M0 0h24v24H0V0z\" fill=\"none\"/>\n",
              "    <path d=\"M18.56 5.44l.94 2.06.94-2.06 2.06-.94-2.06-.94-.94-2.06-.94 2.06-2.06.94zm-11 1L8.5 8.5l.94-2.06 2.06-.94-2.06-.94L8.5 2.5l-.94 2.06-2.06.94zm10 10l.94 2.06.94-2.06 2.06-.94-2.06-.94-.94-2.06-.94 2.06-2.06.94z\"/><path d=\"M17.41 7.96l-1.37-1.37c-.4-.4-.92-.59-1.43-.59-.52 0-1.04.2-1.43.59L10.3 9.45l-7.72 7.72c-.78.78-.78 2.05 0 2.83L4 21.41c.39.39.9.59 1.41.59.51 0 1.02-.2 1.41-.59l7.78-7.78 2.81-2.81c.8-.78.8-2.07 0-2.86zM5.41 20L4 18.59l7.72-7.72 1.47 1.35L5.41 20z\"/>\n",
              "  </svg>\n",
              "      </button>\n",
              "      \n",
              "  <style>\n",
              "    .colab-df-container {\n",
              "      display:flex;\n",
              "      flex-wrap:wrap;\n",
              "      gap: 12px;\n",
              "    }\n",
              "\n",
              "    .colab-df-convert {\n",
              "      background-color: #E8F0FE;\n",
              "      border: none;\n",
              "      border-radius: 50%;\n",
              "      cursor: pointer;\n",
              "      display: none;\n",
              "      fill: #1967D2;\n",
              "      height: 32px;\n",
              "      padding: 0 0 0 0;\n",
              "      width: 32px;\n",
              "    }\n",
              "\n",
              "    .colab-df-convert:hover {\n",
              "      background-color: #E2EBFA;\n",
              "      box-shadow: 0px 1px 2px rgba(60, 64, 67, 0.3), 0px 1px 3px 1px rgba(60, 64, 67, 0.15);\n",
              "      fill: #174EA6;\n",
              "    }\n",
              "\n",
              "    [theme=dark] .colab-df-convert {\n",
              "      background-color: #3B4455;\n",
              "      fill: #D2E3FC;\n",
              "    }\n",
              "\n",
              "    [theme=dark] .colab-df-convert:hover {\n",
              "      background-color: #434B5C;\n",
              "      box-shadow: 0px 1px 3px 1px rgba(0, 0, 0, 0.15);\n",
              "      filter: drop-shadow(0px 1px 2px rgba(0, 0, 0, 0.3));\n",
              "      fill: #FFFFFF;\n",
              "    }\n",
              "  </style>\n",
              "\n",
              "      <script>\n",
              "        const buttonEl =\n",
              "          document.querySelector('#df-969c71c7-27f9-49f1-baa9-450aa9bbca93 button.colab-df-convert');\n",
              "        buttonEl.style.display =\n",
              "          google.colab.kernel.accessAllowed ? 'block' : 'none';\n",
              "\n",
              "        async function convertToInteractive(key) {\n",
              "          const element = document.querySelector('#df-969c71c7-27f9-49f1-baa9-450aa9bbca93');\n",
              "          const dataTable =\n",
              "            await google.colab.kernel.invokeFunction('convertToInteractive',\n",
              "                                                     [key], {});\n",
              "          if (!dataTable) return;\n",
              "\n",
              "          const docLinkHtml = 'Like what you see? Visit the ' +\n",
              "            '<a target=\"_blank\" href=https://colab.research.google.com/notebooks/data_table.ipynb>data table notebook</a>'\n",
              "            + ' to learn more about interactive tables.';\n",
              "          element.innerHTML = '';\n",
              "          dataTable['output_type'] = 'display_data';\n",
              "          await google.colab.output.renderOutput(dataTable, element);\n",
              "          const docLink = document.createElement('div');\n",
              "          docLink.innerHTML = docLinkHtml;\n",
              "          element.appendChild(docLink);\n",
              "        }\n",
              "      </script>\n",
              "    </div>\n",
              "  </div>\n",
              "  "
            ]
          },
          "metadata": {},
          "execution_count": 61
        }
      ]
    },
    {
      "cell_type": "markdown",
      "source": [
        "Data from attached survey"
      ],
      "metadata": {
        "id": "5piHZFPOlRG_"
      }
    },
    {
      "cell_type": "code",
      "source": [
        "data = np.array(data)\n"
      ],
      "metadata": {
        "id": "xzPzjrS-uqG1"
      },
      "execution_count": 62,
      "outputs": []
    },
    {
      "cell_type": "code",
      "source": [
        "data.shape"
      ],
      "metadata": {
        "colab": {
          "base_uri": "https://localhost:8080/"
        },
        "id": "vq0pdlVkundy",
        "outputId": "01e8c4f4-f1e3-47d4-b475-d6845d63c065"
      },
      "execution_count": 63,
      "outputs": [
        {
          "output_type": "execute_result",
          "data": {
            "text/plain": [
              "(32, 5)"
            ]
          },
          "metadata": {},
          "execution_count": 63
        }
      ]
    },
    {
      "cell_type": "code",
      "source": [
        "flavors = data[:,1]"
      ],
      "metadata": {
        "id": "yXfl9xZ3vFlq"
      },
      "execution_count": 64,
      "outputs": []
    },
    {
      "cell_type": "code",
      "source": [
        "flavors"
      ],
      "metadata": {
        "colab": {
          "base_uri": "https://localhost:8080/"
        },
        "id": "loKmuHAGvGUV",
        "outputId": "a451573b-b7a6-4b2b-ada6-e308fcc85cf9"
      },
      "execution_count": 65,
      "outputs": [
        {
          "output_type": "execute_result",
          "data": {
            "text/plain": [
              "array(['Cookie Dough', 'Butter Pecan', 'Mango', 'Mint', 'Cookie Dough',\n",
              "       'Cookie and Cream', 'Chocolate', 'Chocolate', 'Mint', 'Vanillia',\n",
              "       'Birthday Cake', 'Cookie Dough', 'Chocolate', 'Chocolate',\n",
              "       'Chocolate', 'Chocolate', 'Strawberry', 'Cookie and Cream',\n",
              "       'Butter Pecan', 'Chocolate', 'Strawberry', 'Cookie and Cream',\n",
              "       'Vanillia', 'Mango', 'Chocolate', 'Cookie Dough',\n",
              "       'Cookie and Cream', 'Mango', 'Pralines and Cream', 'Chocolate',\n",
              "       'Mint', 'Cookie Dough'], dtype=object)"
            ]
          },
          "metadata": {},
          "execution_count": 65
        }
      ]
    },
    {
      "cell_type": "code",
      "source": [
        "D = {}\n",
        "\n",
        "for flavor in flavors:\n",
        "    \n",
        "    count = np.sum(flavors == flavor)\n",
        "\n",
        "    print(flavor, count)\n",
        "\n",
        "    D[flavor] = count\n"
      ],
      "metadata": {
        "colab": {
          "base_uri": "https://localhost:8080/"
        },
        "id": "uH5m_x45utp_",
        "outputId": "e2b5ed2d-8928-484a-9b55-99083a6cba8b"
      },
      "execution_count": 66,
      "outputs": [
        {
          "output_type": "stream",
          "name": "stdout",
          "text": [
            "Cookie Dough 5\n",
            "Butter Pecan 2\n",
            "Mango 3\n",
            "Mint 3\n",
            "Cookie Dough 5\n",
            "Cookie and Cream 4\n",
            "Chocolate 9\n",
            "Chocolate 9\n",
            "Mint 3\n",
            "Vanillia 2\n",
            "Birthday Cake 1\n",
            "Cookie Dough 5\n",
            "Chocolate 9\n",
            "Chocolate 9\n",
            "Chocolate 9\n",
            "Chocolate 9\n",
            "Strawberry 2\n",
            "Cookie and Cream 4\n",
            "Butter Pecan 2\n",
            "Chocolate 9\n",
            "Strawberry 2\n",
            "Cookie and Cream 4\n",
            "Vanillia 2\n",
            "Mango 3\n",
            "Chocolate 9\n",
            "Cookie Dough 5\n",
            "Cookie and Cream 4\n",
            "Mango 3\n",
            "Pralines and Cream 1\n",
            "Chocolate 9\n",
            "Mint 3\n",
            "Cookie Dough 5\n"
          ]
        }
      ]
    },
    {
      "cell_type": "code",
      "source": [
        "names = list(D.keys())\n",
        "values = list(D.values())\n",
        "\n",
        "N = len(names)\n",
        "cmap = plt.cm.tab10\n",
        "colors = cmap(np.arange(N) % cmap.N)\n",
        "ax = plt.gca()\n",
        "plt.bar(range(len(D)), values, tick_label=names, color = colors)\n",
        "\n",
        "ax.set_xticklabels(names, rotation = 45)\n",
        "plt.show()"
      ],
      "metadata": {
        "colab": {
          "base_uri": "https://localhost:8080/",
          "height": 331
        },
        "id": "f1ktj5iCu5fD",
        "outputId": "135d11f5-9304-44ac-8d61-2c451dd9ec0b"
      },
      "execution_count": 67,
      "outputs": [
        {
          "output_type": "display_data",
          "data": {
            "text/plain": [
              "<Figure size 432x288 with 1 Axes>"
            ],
            "image/png": "[encoded data removed]"
          },
          "metadata": {
            "needs_background": "light"
          }
        }
      ]
    }
  ]
}
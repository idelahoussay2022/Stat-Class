{
  "nbformat": 4,
  "nbformat_minor": 0,
  "metadata": {
    "colab": {
      "provenance": [],
      "collapsed_sections": [],
      "authorship_tag": "ABX9TyNjX65thcAM3DWZ1hxoZ7qk",
      "include_colab_link": true
    },
    "kernelspec": {
      "name": "python3",
      "display_name": "Python 3"
    },
    "language_info": {
      "name": "python"
    }
  },
  "cells": [
    {
      "cell_type": "markdown",
      "metadata": {
        "id": "view-in-github",
        "colab_type": "text"
      },
      "source": [
        "<a href=\"https://colab.research.google.com/github/idelahoussay2022/Stat-Class/blob/main/Iris_Delahoussaye_Midterm.ipynb\" target=\"_parent\"><img src=\"https://colab.research.google.com/assets/colab-badge.svg\" alt=\"Open In Colab\"/></a>"
      ]
    },
    {
      "cell_type": "code",
      "execution_count": null,
      "metadata": {
        "id": "kA5jbtpAQ0H3"
      },
      "outputs": [],
      "source": [
        "import numpy as np\n",
        "import matplotlib.pyplot as plt"
      ]
    },
    {
      "cell_type": "markdown",
      "source": [
        "code above: not sure specifically what it does but I know that without it nothing works properly"
      ],
      "metadata": {
        "id": "lBt1kdz1Diks"
      }
    },
    {
      "cell_type": "code",
      "source": [
        "X=np.array ([12,9,20,7,2])\n",
        "Y=np.array([38,28,63,22,6])"
      ],
      "metadata": {
        "id": "JGr-dS1qRDuc"
      },
      "execution_count": null,
      "outputs": []
    },
    {
      "cell_type": "markdown",
      "source": [
        "code above: starting data points"
      ],
      "metadata": {
        "id": "8QeuJoqjDpUi"
      }
    },
    {
      "cell_type": "code",
      "source": [
        "plt.plot(X,Y,'g.')"
      ],
      "metadata": {
        "colab": {
          "base_uri": "https://localhost:8080/",
          "height": 283
        },
        "id": "ncgnxR7yRi6D",
        "outputId": "599f2e2a-980b-4adb-a032-85550cfec7b5"
      },
      "execution_count": null,
      "outputs": [
        {
          "output_type": "execute_result",
          "data": {
            "text/plain": [
              "[<matplotlib.lines.Line2D at 0x7fc1ee5e4850>]"
            ]
          },
          "metadata": {},
          "execution_count": 3
        },
        {
          "output_type": "display_data",
          "data": {
            "text/plain": [
              "<Figure size 432x288 with 1 Axes>"
            ],
            "image/png": "[encoded data removed]"
          },
          "metadata": {
            "needs_background": "light"
          }
        }
      ]
    },
    {
      "cell_type": "markdown",
      "source": [
        "code above: plots data points from the array at top of notebook"
      ],
      "metadata": {
        "id": "Yur7LrDBDMHp"
      }
    },
    {
      "cell_type": "code",
      "source": [
        "m_guess = 0\n",
        "b_guess = 0 "
      ],
      "metadata": {
        "id": "fwaIqr9yRqdm"
      },
      "execution_count": null,
      "outputs": []
    },
    {
      "cell_type": "markdown",
      "source": [
        "$y=mx + b$\n"
      ],
      "metadata": {
        "id": "qT2Fwq2NSyJj"
      }
    },
    {
      "cell_type": "code",
      "source": [
        "m_guess*X + b_guess "
      ],
      "metadata": {
        "colab": {
          "base_uri": "https://localhost:8080/"
        },
        "id": "eBrQvIH2SKbL",
        "outputId": "bf343499-f4b1-4c77-aef4-d1831db045a0"
      },
      "execution_count": null,
      "outputs": [
        {
          "output_type": "execute_result",
          "data": {
            "text/plain": [
              "array([0, 0, 0, 0, 0])"
            ]
          },
          "metadata": {},
          "execution_count": 5
        }
      ]
    },
    {
      "cell_type": "code",
      "source": [
        "y_guess = m_guess * X + b_guess"
      ],
      "metadata": {
        "id": "WkHadHYESWxn"
      },
      "execution_count": null,
      "outputs": []
    },
    {
      "cell_type": "code",
      "source": [
        "(y_guess - Y)**2"
      ],
      "metadata": {
        "colab": {
          "base_uri": "https://localhost:8080/"
        },
        "id": "gPAdd28vTpIE",
        "outputId": "6cec071e-c316-4ae0-acd4-9b14d6652cc3"
      },
      "execution_count": null,
      "outputs": [
        {
          "output_type": "execute_result",
          "data": {
            "text/plain": [
              "array([1444,  784, 3969,  484,   36])"
            ]
          },
          "metadata": {},
          "execution_count": 7
        }
      ]
    },
    {
      "cell_type": "markdown",
      "source": [
        "code above: calculates distance of guess from line of best fit looking for least squares\n",
        "\n"
      ],
      "metadata": {
        "id": "RLCjmSgwASkx"
      }
    },
    {
      "cell_type": "code",
      "source": [
        "np.sum((y_guess - Y)**2)"
      ],
      "metadata": {
        "colab": {
          "base_uri": "https://localhost:8080/"
        },
        "id": "jA9cc8N7Tu2X",
        "outputId": "0dd2847d-d832-4221-d268-ef8e3e82750d"
      },
      "execution_count": null,
      "outputs": [
        {
          "output_type": "execute_result",
          "data": {
            "text/plain": [
              "6717"
            ]
          },
          "metadata": {},
          "execution_count": 8
        }
      ]
    },
    {
      "cell_type": "markdown",
      "source": [
        "code above: calculate total distance of guess from the line of best fit for all points"
      ],
      "metadata": {
        "id": "VD2bME5bDxZ_"
      }
    },
    {
      "cell_type": "code",
      "source": [
        "loss = np.sum((y_guess - Y)**2)"
      ],
      "metadata": {
        "id": "DAcw568sWV_6"
      },
      "execution_count": null,
      "outputs": []
    },
    {
      "cell_type": "code",
      "source": [
        "best_loss_so_far = 1000000000000\n",
        "m_best = 0 \n",
        "b_best = 0 \n",
        "\n",
        "for m_guess in np.linspace(-100,100,100):\n",
        "    for b_guess in np.linspace(-100,100,100):\n",
        "        \n",
        "        y_guess = m_guess * X + b_guess\n",
        "\n",
        "        loss = np.sum((y_guess - Y)**2)\n",
        "\n",
        "        if loss < best_loss_so_far:\n",
        "            m_best = m_guess\n",
        "            b_best = b_guess\n",
        "            best_loss_so_far = loss\n",
        "\n",
        "\n",
        "print(\"Found best fit:\")\n",
        "print(m_best,b_best,loss)"
      ],
      "metadata": {
        "colab": {
          "base_uri": "https://localhost:8080/"
        },
        "id": "v88vye0-WWsL",
        "outputId": "78a626c2-abeb-4bb1-9399-aef50f632f8b"
      },
      "execution_count": null,
      "outputs": [
        {
          "output_type": "stream",
          "name": "stdout",
          "text": [
            "Found best fit:\n",
            "3.030303030303031 1.0101010101010104 7378517.0\n"
          ]
        }
      ]
    },
    {
      "cell_type": "markdown",
      "source": [
        "code above: \n",
        "guesses for m and b assuming\n",
        "-100<m<100 and -100<b<100 \n",
        "calculating loss (error)\n",
        "best fit found at time of addition (top line)\n",
        "\n",
        "if statement: test multiple guesses but only print best fit found after testing\n",
        "\n",
        "best fit (if the measurements were perfect) = pi\n"
      ],
      "metadata": {
        "id": "RekhD5uYCtNI"
      }
    },
    {
      "cell_type": "markdown",
      "source": [
        "### Questions:\n",
        "Question 1:\n",
        "What do  𝑚  and  𝑏  represent in these equations?\n",
        "\n",
        "M= slope specifically diameter over circumference \n",
        "B = y-intercept \n",
        "\n",
        "Question 2:\n",
        "Guess what the correct values 𝑚 and 𝑏 should be.\n",
        "\n",
        "b = 1  m = pi (if the circles were measured perfectly)\n",
        "Question 3:\n",
        "Does it make sense to include 𝑏 in the parameters?\n",
        "\n",
        "It makes sense to include me in the parameters since both a slope and Y intercept are required to find the line of best fit\n",
        "\n"
      ],
      "metadata": {
        "id": "e9tcB5MOES9C"
      }
    }
  ]
}